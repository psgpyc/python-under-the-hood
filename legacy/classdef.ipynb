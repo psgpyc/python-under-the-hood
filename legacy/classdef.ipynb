{
 "cells": [
  {
   "cell_type": "code",
   "id": "initial_id",
   "metadata": {
    "collapsed": true,
    "ExecuteTime": {
     "end_time": "2024-06-10T12:49:57.990810Z",
     "start_time": "2024-06-10T12:49:57.985582Z"
    }
   },
   "source": [
    "class Rectangle:\n",
    "    def __init__(self, width, height):\n",
    "        self.width = width\n",
    "        self.height = height\n",
    "        \n",
    "    def area(self):\n",
    "        return self.width * self.height\n",
    "    \n",
    "    def perimeter(self):\n",
    "        return 2 * (self.width + self.height)\n",
    "    \n",
    "    def __str__(self):\n",
    "        return f\"A rectangle with width:{self.width} and height:{self.height}\"\n",
    "    \n",
    "    def __repr__(self):\n",
    "        return f\"Rectangle({self.width}, {self.height})\""
   ],
   "outputs": [],
   "execution_count": 18
  },
  {
   "metadata": {
    "ExecuteTime": {
     "end_time": "2024-06-10T12:53:25.463829Z",
     "start_time": "2024-06-10T12:53:25.456562Z"
    }
   },
   "cell_type": "code",
   "source": "r1 = Rectangle(5, 5)",
   "id": "27c427b034c825d",
   "outputs": [],
   "execution_count": 23
  },
  {
   "metadata": {
    "ExecuteTime": {
     "end_time": "2024-06-10T12:55:13.776871Z",
     "start_time": "2024-06-10T12:55:13.772161Z"
    }
   },
   "cell_type": "code",
   "source": "r2 = Rectangle(5, 5)",
   "id": "13d7fb5391e41372",
   "outputs": [],
   "execution_count": 33
  },
  {
   "metadata": {
    "ExecuteTime": {
     "end_time": "2024-06-10T12:55:16.875593Z",
     "start_time": "2024-06-10T12:55:16.857069Z"
    }
   },
   "cell_type": "code",
   "source": "r1 == r2",
   "id": "1a9b5a757df0dc1a",
   "outputs": [
    {
     "data": {
      "text/plain": [
       "False"
      ]
     },
     "execution_count": 34,
     "metadata": {},
     "output_type": "execute_result"
    }
   ],
   "execution_count": 34
  },
  {
   "metadata": {
    "ExecuteTime": {
     "end_time": "2024-06-10T12:55:24.815855Z",
     "start_time": "2024-06-10T12:55:24.805519Z"
    }
   },
   "cell_type": "code",
   "source": "hex(id(r1))",
   "id": "990f9845f3e29ad0",
   "outputs": [
    {
     "data": {
      "text/plain": [
       "'0x1e344d7a7d0'"
      ]
     },
     "execution_count": 35,
     "metadata": {},
     "output_type": "execute_result"
    }
   ],
   "execution_count": 35
  },
  {
   "metadata": {
    "ExecuteTime": {
     "end_time": "2024-06-10T12:55:33.954588Z",
     "start_time": "2024-06-10T12:55:33.939989Z"
    }
   },
   "cell_type": "code",
   "source": "hex(id(r2))",
   "id": "a56e07ffebad311a",
   "outputs": [
    {
     "data": {
      "text/plain": [
       "'0x1e344d79590'"
      ]
     },
     "execution_count": 37,
     "metadata": {},
     "output_type": "execute_result"
    }
   ],
   "execution_count": 37
  },
  {
   "metadata": {},
   "cell_type": "markdown",
   "source": [
    "Normally, we consider two rectangle equal of their height and width are same. So, why r1 == r2 is giving\n",
    "us False.\n",
    "\n",
    "Here, we are checking are two objects equal? Do they reference the same memory location?"
   ],
   "id": "87d65f0c9f00764a"
  },
  {
   "metadata": {},
   "cell_type": "markdown",
   "source": "We have special method in python, that lets us compare our objects.",
   "id": "5d6218a3ce99ba2f"
  },
  {
   "metadata": {
    "ExecuteTime": {
     "end_time": "2024-06-10T12:58:18.688844Z",
     "start_time": "2024-06-10T12:58:18.683674Z"
    }
   },
   "cell_type": "code",
   "source": [
    "class Rectangle:\n",
    "    def __init__(self, width, height):\n",
    "        self.width = width\n",
    "        self.height = height\n",
    "        \n",
    "    def area(self):\n",
    "        return self.width * self.height\n",
    "    \n",
    "    def perimeter(self):\n",
    "        return 2 * (self.width + self.height)\n",
    "    \n",
    "    def __str__(self):\n",
    "        return f\"A rectangle with width:{self.width} and height:{self.height}\"\n",
    "    \n",
    "    def __repr__(self):\n",
    "        return f\"Rectangle({self.width}, {self.height})\"\n",
    "    \n",
    "    def __eq__(self, other):\n",
    "        if isinstance(other, Rectangle):\n",
    "            return (self.width, self.height) == (other.width, other.height)\n",
    "        else:\n",
    "            return False"
   ],
   "id": "eb2fa7f64061e017",
   "outputs": [],
   "execution_count": 38
  },
  {
   "metadata": {
    "ExecuteTime": {
     "end_time": "2024-06-10T12:59:13.768276Z",
     "start_time": "2024-06-10T12:59:13.763659Z"
    }
   },
   "cell_type": "code",
   "source": "ra = Rectangle(15, 15)",
   "id": "a4bce257db5e4e31",
   "outputs": [],
   "execution_count": 39
  },
  {
   "metadata": {
    "ExecuteTime": {
     "end_time": "2024-06-10T12:59:22.933022Z",
     "start_time": "2024-06-10T12:59:22.929023Z"
    }
   },
   "cell_type": "code",
   "source": "rb = Rectangle(15, 15)",
   "id": "86b86c8bc972cf18",
   "outputs": [],
   "execution_count": 40
  },
  {
   "metadata": {
    "ExecuteTime": {
     "end_time": "2024-06-10T13:00:52.122570Z",
     "start_time": "2024-06-10T13:00:52.114563Z"
    }
   },
   "cell_type": "code",
   "source": [
    "ra == rb\n",
    "#Here, when you use the equality operator, the __eq__() is invoked and compares the attributes of the objects (or what ever is defined in thr __eq__() function)"
   ],
   "id": "403c97d7f46182c8",
   "outputs": [
    {
     "data": {
      "text/plain": [
       "True"
      ]
     },
     "execution_count": 45,
     "metadata": {},
     "output_type": "execute_result"
    }
   ],
   "execution_count": 45
  },
  {
   "metadata": {
    "ExecuteTime": {
     "end_time": "2024-06-10T13:00:30.016327Z",
     "start_time": "2024-06-10T13:00:30.004698Z"
    }
   },
   "cell_type": "code",
   "source": [
    "ra is rb\n",
    "#this is returning false because ra and rb are two different objects referencing two different mem location."
   ],
   "id": "ebdefe94d8a5da0e",
   "outputs": [
    {
     "data": {
      "text/plain": [
       "False"
      ]
     },
     "execution_count": 44,
     "metadata": {},
     "output_type": "execute_result"
    }
   ],
   "execution_count": 44
  },
  {
   "metadata": {},
   "cell_type": "markdown",
   "source": "## less than and greater than operator",
   "id": "3bcb4486f029ff1e"
  },
  {
   "metadata": {
    "ExecuteTime": {
     "end_time": "2024-06-10T13:18:04.306303Z",
     "start_time": "2024-06-10T13:18:04.298840Z"
    }
   },
   "cell_type": "code",
   "source": [
    "class Rectangle:\n",
    "    def __init__(self, width, height):\n",
    "        self.width = width\n",
    "        self.height = height\n",
    "        \n",
    "    def area(self):\n",
    "        return self.width * self.height\n",
    "    \n",
    "    def perimeter(self):\n",
    "        return 2 * (self.width + self.height)\n",
    "    \n",
    "    def __str__(self):\n",
    "        return f\"A rectangle with width:{self.width} and height:{self.height}\"\n",
    "    \n",
    "    def __repr__(self):\n",
    "        return f\"Rectangle({self.width}, {self.height})\"\n",
    "    \n",
    "    def __eq__(self, other):\n",
    "        if isinstance(other, Rectangle):\n",
    "            return (self.width, self.height) == (other.width, other.height)\n",
    "        else:\n",
    "            return False\n",
    "    def __lt__(self, other):\n",
    "        if isinstance(other, Rectangle):\n",
    "            return self.area() < other.area()\n",
    "        else:\n",
    "            return NotImplemented\n",
    "        \n",
    "    def __gt__(self, other):\n",
    "        if isinstance(other, Rectangle):\n",
    "            return self.area() > other.area()\n",
    "        else:\n",
    "            return NotImplemented"
   ],
   "id": "e13709b375888b4c",
   "outputs": [],
   "execution_count": 51
  },
  {
   "metadata": {
    "ExecuteTime": {
     "end_time": "2024-06-10T13:17:03.720005Z",
     "start_time": "2024-06-10T13:17:03.701856Z"
    }
   },
   "cell_type": "code",
   "source": [
    "rx = Rectangle(5, 5)\n",
    "ry = Rectangle(10, 5)"
   ],
   "id": "9cfa4dd233fe0577",
   "outputs": [],
   "execution_count": 47
  },
  {
   "metadata": {
    "ExecuteTime": {
     "end_time": "2024-06-10T13:17:07.604877Z",
     "start_time": "2024-06-10T13:17:07.599453Z"
    }
   },
   "cell_type": "code",
   "source": "rx > ry",
   "id": "1c765c2f4abef25d",
   "outputs": [
    {
     "data": {
      "text/plain": [
       "False"
      ]
     },
     "execution_count": 48,
     "metadata": {},
     "output_type": "execute_result"
    }
   ],
   "execution_count": 48
  },
  {
   "metadata": {
    "ExecuteTime": {
     "end_time": "2024-06-10T13:17:13.677276Z",
     "start_time": "2024-06-10T13:17:13.668215Z"
    }
   },
   "cell_type": "code",
   "source": "rx < ry",
   "id": "50d70f71d63a5331",
   "outputs": [
    {
     "data": {
      "text/plain": [
       "True"
      ]
     },
     "execution_count": 49,
     "metadata": {},
     "output_type": "execute_result"
    }
   ],
   "execution_count": 49
  },
  {
   "metadata": {
    "ExecuteTime": {
     "end_time": "2024-06-10T13:17:22.556118Z",
     "start_time": "2024-06-10T13:17:22.550491Z"
    }
   },
   "cell_type": "code",
   "source": "ry > rx",
   "id": "5c33b59e81e3bf8d",
   "outputs": [
    {
     "data": {
      "text/plain": [
       "True"
      ]
     },
     "execution_count": 50,
     "metadata": {},
     "output_type": "execute_result"
    }
   ],
   "execution_count": 50
  },
  {
   "metadata": {},
   "cell_type": "markdown",
   "source": "## getter & setter methods: non-existent private variable",
   "id": "5e5f9a18e57c4dd1"
  },
  {
   "metadata": {
    "ExecuteTime": {
     "end_time": "2024-06-10T15:26:31.328963Z",
     "start_time": "2024-06-10T15:26:31.313355Z"
    }
   },
   "cell_type": "code",
   "source": [
    "class Rectangle:\n",
    "    def __init__(self, width, height):\n",
    "        self._width = width\n",
    "        self._height = height\n",
    "        \n",
    "    def get_width(self):\n",
    "        return self._width\n",
    "    \n",
    "    def get_height(self):\n",
    "        return self._height\n",
    "\n",
    "    def set_width(self, width):\n",
    "        if width < 0:\n",
    "            raise ValueError(\"width cannot be negative\")\n",
    "        else:\n",
    "            self._width = width\n",
    "        \n",
    "    def set_height(self, height):\n",
    "        if height < 0:\n",
    "            raise ValueError(\"width cannot be negative\")\n",
    "        else:\n",
    "            self._height = height   \n",
    "    \n",
    "    def __str__(self):\n",
    "        return f\"A rectangle with width:{self._width} and height:{self._height}\"\n",
    "    \n",
    "    def __repr__(self):\n",
    "        return f\"Rectangle({self._width}, {self._height})\"\n",
    "    \n",
    "    def __eq__(self, other):\n",
    "        if isinstance(other, Rectangle):\n",
    "            return (self._width, self._height) == (other._width, other._height)\n",
    "        else:\n",
    "            return False\n",
    "    "
   ],
   "id": "5c8265bc50198ded",
   "outputs": [],
   "execution_count": 54
  },
  {
   "metadata": {},
   "cell_type": "markdown",
   "source": "In an object-oriented design, we have private variables and getter and setter methods to retrieve and set them.                                                                                              Unfortunately, python does not have the concept of private variables. So, we start class attributes with _, letting the programmers know that it is a private variable.                                    So, if you have to access them, use the getter & setter methods.        ",
   "id": "cd72b3f48d78b280"
  },
  {
   "metadata": {
    "ExecuteTime": {
     "end_time": "2024-06-10T15:29:01.933476Z",
     "start_time": "2024-06-10T15:29:01.929531Z"
    }
   },
   "cell_type": "code",
   "source": "rx = Rectangle(5, 5)",
   "id": "fe864c7797d81d16",
   "outputs": [],
   "execution_count": 55
  },
  {
   "metadata": {
    "ExecuteTime": {
     "end_time": "2024-06-10T15:29:06.352530Z",
     "start_time": "2024-06-10T15:29:05.907091Z"
    }
   },
   "cell_type": "code",
   "source": "rx.width",
   "id": "7de95bac9b44a5eb",
   "outputs": [
    {
     "ename": "AttributeError",
     "evalue": "'Rectangle' object has no attribute 'width'",
     "output_type": "error",
     "traceback": [
      "\u001B[1;31m---------------------------------------------------------------------------\u001B[0m",
      "\u001B[1;31mAttributeError\u001B[0m                            Traceback (most recent call last)",
      "Cell \u001B[1;32mIn[56], line 1\u001B[0m\n\u001B[1;32m----> 1\u001B[0m rx\u001B[38;5;241m.\u001B[39mwidth\n",
      "\u001B[1;31mAttributeError\u001B[0m: 'Rectangle' object has no attribute 'width'"
     ]
    }
   ],
   "execution_count": 56
  },
  {
   "metadata": {
    "ExecuteTime": {
     "end_time": "2024-06-10T15:29:19.113268Z",
     "start_time": "2024-06-10T15:29:19.107713Z"
    }
   },
   "cell_type": "code",
   "source": "rx.get_width()",
   "id": "fee9b135f09e9e88",
   "outputs": [
    {
     "data": {
      "text/plain": [
       "5"
      ]
     },
     "execution_count": 57,
     "metadata": {},
     "output_type": "execute_result"
    }
   ],
   "execution_count": 57
  },
  {
   "metadata": {
    "ExecuteTime": {
     "end_time": "2024-06-10T15:29:26.830308Z",
     "start_time": "2024-06-10T15:29:26.825435Z"
    }
   },
   "cell_type": "code",
   "source": "rx.width = 123",
   "id": "31b1320849b9efd6",
   "outputs": [],
   "execution_count": 58
  },
  {
   "metadata": {},
   "cell_type": "markdown",
   "source": "Though I was not able to access the private attribute width, python lets me assign width to the object at the run time. This is a unusual behaviour in python and called monkey patching.",
   "id": "3e812f8cb3f286a5"
  },
  {
   "metadata": {
    "ExecuteTime": {
     "end_time": "2024-06-10T15:29:31.733623Z",
     "start_time": "2024-06-10T15:29:31.723660Z"
    }
   },
   "cell_type": "code",
   "source": "rx.get_width()",
   "id": "1832ea8113069e9d",
   "outputs": [
    {
     "data": {
      "text/plain": [
       "5"
      ]
     },
     "execution_count": 59,
     "metadata": {},
     "output_type": "execute_result"
    }
   ],
   "execution_count": 59
  },
  {
   "metadata": {},
   "cell_type": "markdown",
   "source": [
    "## The pythonic way of doing this: property decorators\n",
    "Don't force people to use getter and setters unless you absolutely have to.  Python does not have private variables, so it is absolutely fine to access attributes."
   ],
   "id": "9b88b42eb3311686"
  },
  {
   "metadata": {
    "ExecuteTime": {
     "end_time": "2024-06-10T15:48:18.611577Z",
     "start_time": "2024-06-10T15:48:18.594683Z"
    }
   },
   "cell_type": "code",
   "source": [
    "class Rectangle:\n",
    "    def __init__(self, width, height):\n",
    "        self.width = width\n",
    "        self.height = height\n",
    "    \n",
    "    @property\n",
    "    def width(self):\n",
    "        return self._width\n",
    "    \n",
    "    @width.setter\n",
    "    def width(self, width):\n",
    "        if width < 0:\n",
    "            raise ValueError(\"width cannot be negative\")\n",
    "        else:\n",
    "            self._width = width\n",
    "        \n",
    "    @property\n",
    "    def height(self):\n",
    "        return self._height\n",
    "    \n",
    "    @height.setter\n",
    "    def height(self, height):\n",
    "        if height < 0:\n",
    "            raise ValueError(\"width cannot be negative\")\n",
    "        else:\n",
    "            self._height = height\n",
    "    \n",
    "    def __str__(self):\n",
    "        return f\"A rectangle with width:{self.width} and height:{self.height}\"\n",
    "    \n",
    "    def __repr__(self):\n",
    "        return f\"Rectangle({self.width}, {self.height})\"\n",
    "    \n",
    "    def __eq__(self, other):\n",
    "        if isinstance(other, Rectangle):\n",
    "            return (self.width, self.height) == (other.width, other.height)\n",
    "        else:\n",
    "            return False\n",
    "    "
   ],
   "id": "e386ffef62b64e3f",
   "outputs": [],
   "execution_count": 63
  },
  {
   "metadata": {
    "ExecuteTime": {
     "end_time": "2024-06-10T15:48:20.559431Z",
     "start_time": "2024-06-10T15:48:20.528565Z"
    }
   },
   "cell_type": "code",
   "source": "rx = Rectangle(5, -5)",
   "id": "3c57ef068396de77",
   "outputs": [
    {
     "ename": "ValueError",
     "evalue": "width cannot be negative",
     "output_type": "error",
     "traceback": [
      "\u001B[1;31m---------------------------------------------------------------------------\u001B[0m",
      "\u001B[1;31mValueError\u001B[0m                                Traceback (most recent call last)",
      "Cell \u001B[1;32mIn[64], line 1\u001B[0m\n\u001B[1;32m----> 1\u001B[0m rx \u001B[38;5;241m=\u001B[39m Rectangle(\u001B[38;5;241m5\u001B[39m, \u001B[38;5;241m-\u001B[39m\u001B[38;5;241m5\u001B[39m)\n",
      "Cell \u001B[1;32mIn[63], line 4\u001B[0m, in \u001B[0;36mRectangle.__init__\u001B[1;34m(self, width, height)\u001B[0m\n\u001B[0;32m      2\u001B[0m \u001B[38;5;28;01mdef\u001B[39;00m \u001B[38;5;21m__init__\u001B[39m(\u001B[38;5;28mself\u001B[39m, width, height):\n\u001B[0;32m      3\u001B[0m     \u001B[38;5;28mself\u001B[39m\u001B[38;5;241m.\u001B[39mwidth \u001B[38;5;241m=\u001B[39m width\n\u001B[1;32m----> 4\u001B[0m     \u001B[38;5;28mself\u001B[39m\u001B[38;5;241m.\u001B[39mheight \u001B[38;5;241m=\u001B[39m height\n",
      "Cell \u001B[1;32mIn[63], line 24\u001B[0m, in \u001B[0;36mRectangle.height\u001B[1;34m(self, height)\u001B[0m\n\u001B[0;32m     21\u001B[0m \u001B[38;5;129m@height\u001B[39m\u001B[38;5;241m.\u001B[39msetter\n\u001B[0;32m     22\u001B[0m \u001B[38;5;28;01mdef\u001B[39;00m \u001B[38;5;21mheight\u001B[39m(\u001B[38;5;28mself\u001B[39m, height):\n\u001B[0;32m     23\u001B[0m     \u001B[38;5;28;01mif\u001B[39;00m height \u001B[38;5;241m<\u001B[39m \u001B[38;5;241m0\u001B[39m:\n\u001B[1;32m---> 24\u001B[0m         \u001B[38;5;28;01mraise\u001B[39;00m \u001B[38;5;167;01mValueError\u001B[39;00m(\u001B[38;5;124m\"\u001B[39m\u001B[38;5;124mwidth cannot be negative\u001B[39m\u001B[38;5;124m\"\u001B[39m)\n\u001B[0;32m     25\u001B[0m     \u001B[38;5;28;01melse\u001B[39;00m:\n\u001B[0;32m     26\u001B[0m         \u001B[38;5;28mself\u001B[39m\u001B[38;5;241m.\u001B[39m_height \u001B[38;5;241m=\u001B[39m height\n",
      "\u001B[1;31mValueError\u001B[0m: width cannot be negative"
     ]
    }
   ],
   "execution_count": 64
  },
  {
   "metadata": {
    "ExecuteTime": {
     "end_time": "2024-06-10T15:48:04.911896Z",
     "start_time": "2024-06-10T15:48:04.898207Z"
    }
   },
   "cell_type": "code",
   "source": "rx",
   "id": "6b393f2571ea2cbc",
   "outputs": [
    {
     "data": {
      "text/plain": [
       "Rectangle(5, -5)"
      ]
     },
     "execution_count": 62,
     "metadata": {},
     "output_type": "execute_result"
    }
   ],
   "execution_count": 62
  },
  {
   "metadata": {},
   "cell_type": "code",
   "outputs": [],
   "execution_count": null,
   "source": "",
   "id": "faa51ae4887f1071"
  }
 ],
 "metadata": {
  "kernelspec": {
   "display_name": "Python 3",
   "language": "python",
   "name": "python3"
  },
  "language_info": {
   "codemirror_mode": {
    "name": "ipython",
    "version": 2
   },
   "file_extension": ".py",
   "mimetype": "text/x-python",
   "name": "python",
   "nbconvert_exporter": "python",
   "pygments_lexer": "ipython2",
   "version": "2.7.6"
  }
 },
 "nbformat": 4,
 "nbformat_minor": 5
}
