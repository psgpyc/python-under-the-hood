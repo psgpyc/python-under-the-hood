{
 "cells": [
  {
   "cell_type": "code",
   "id": "initial_id",
   "metadata": {
    "collapsed": true,
    "ExecuteTime": {
     "end_time": "2024-06-11T21:29:28.543558Z",
     "start_time": "2024-06-11T21:29:28.527605Z"
    }
   },
   "source": "import sys",
   "outputs": [],
   "execution_count": 1
  },
  {
   "metadata": {
    "ExecuteTime": {
     "end_time": "2024-06-11T21:30:31.378346Z",
     "start_time": "2024-06-11T21:30:31.369816Z"
    }
   },
   "cell_type": "code",
   "source": "x = [1,2,3,4,5,6,7,8,9,10,11,12,13,14,15]",
   "id": "d334f8ce9dd2c38a",
   "outputs": [],
   "execution_count": 4
  },
  {
   "metadata": {},
   "cell_type": "markdown",
   "source": [
    "### variables: the memory references\n",
    "the list object is created at some memory address and the variable x references to it."
   ],
   "id": "338c3b53e1c95fe6"
  },
  {
   "metadata": {
    "ExecuteTime": {
     "end_time": "2024-06-11T21:33:04.265071Z",
     "start_time": "2024-06-11T21:33:04.241918Z"
    }
   },
   "cell_type": "code",
   "source": "id(x)",
   "id": "38ed8b42d5a98831",
   "outputs": [
    {
     "data": {
      "text/plain": [
       "2943927334592"
      ]
     },
     "execution_count": 5,
     "metadata": {},
     "output_type": "execute_result"
    }
   ],
   "execution_count": 5
  },
  {
   "metadata": {
    "ExecuteTime": {
     "end_time": "2024-06-11T21:33:30.442325Z",
     "start_time": "2024-06-11T21:33:30.430162Z"
    }
   },
   "cell_type": "code",
   "source": "sys.getrefcount(x)",
   "id": "4bc4928989950875",
   "outputs": [
    {
     "data": {
      "text/plain": [
       "2"
      ]
     },
     "execution_count": 6,
     "metadata": {},
     "output_type": "execute_result"
    }
   ],
   "execution_count": 6
  },
  {
   "metadata": {},
   "cell_type": "markdown",
   "source": [
    "Here, we get 2. \n",
    "The reason behind it is, the simple act of passing the variable to the getrefcount() increases the reference to the memory location. Thus, increasing the reference."
   ],
   "id": "a4b7162b2e014baa"
  },
  {
   "metadata": {
    "ExecuteTime": {
     "end_time": "2024-06-11T21:37:19.005642Z",
     "start_time": "2024-06-11T21:37:18.991436Z"
    }
   },
   "cell_type": "code",
   "source": "import ctypes",
   "id": "8e1a277f4969b6ae",
   "outputs": [],
   "execution_count": 7
  },
  {
   "metadata": {
    "ExecuteTime": {
     "end_time": "2024-06-11T21:37:59.854743Z",
     "start_time": "2024-06-11T21:37:59.844720Z"
    }
   },
   "cell_type": "code",
   "source": [
    "def ref_count(address: int):\n",
    "    return ctypes.c_long.from_address(address).value"
   ],
   "id": "dbaa0eb505bb71d3",
   "outputs": [],
   "execution_count": 8
  },
  {
   "metadata": {
    "ExecuteTime": {
     "end_time": "2024-06-11T21:38:10.555840Z",
     "start_time": "2024-06-11T21:38:10.540062Z"
    }
   },
   "cell_type": "code",
   "source": "ref_count(id(x))",
   "id": "c8c695c2a844c342",
   "outputs": [
    {
     "data": {
      "text/plain": [
       "1"
      ]
     },
     "execution_count": 9,
     "metadata": {},
     "output_type": "execute_result"
    }
   ],
   "execution_count": 9
  },
  {
   "metadata": {
    "ExecuteTime": {
     "end_time": "2024-06-11T21:40:23.374330Z",
     "start_time": "2024-06-11T21:40:23.365794Z"
    }
   },
   "cell_type": "code",
   "source": "y = x",
   "id": "cbf5dd51ca4f19b6",
   "outputs": [],
   "execution_count": 10
  },
  {
   "metadata": {
    "ExecuteTime": {
     "end_time": "2024-06-11T21:40:32.265477Z",
     "start_time": "2024-06-11T21:40:32.252619Z"
    }
   },
   "cell_type": "code",
   "source": "ref_count(id(x))",
   "id": "14da62d56f6c3488",
   "outputs": [
    {
     "data": {
      "text/plain": [
       "2"
      ]
     },
     "execution_count": 11,
     "metadata": {},
     "output_type": "execute_result"
    }
   ],
   "execution_count": 11
  },
  {
   "metadata": {
    "ExecuteTime": {
     "end_time": "2024-06-11T21:40:50.572948Z",
     "start_time": "2024-06-11T21:40:50.562831Z"
    }
   },
   "cell_type": "code",
   "source": "y = 1345",
   "id": "bdf6fa7979138faa",
   "outputs": [],
   "execution_count": 12
  },
  {
   "metadata": {
    "ExecuteTime": {
     "end_time": "2024-06-11T21:41:01.898779Z",
     "start_time": "2024-06-11T21:41:01.887676Z"
    }
   },
   "cell_type": "code",
   "source": "",
   "id": "bf9fe6feda2074d5",
   "outputs": [
    {
     "data": {
      "text/plain": [
       "1"
      ]
     },
     "execution_count": 13,
     "metadata": {},
     "output_type": "execute_result"
    }
   ],
   "execution_count": 13
  },
  {
   "metadata": {},
   "cell_type": "markdown",
   "source": "Here, we have assigned y to some other value. Now, variable y references a different object at a different memory location.",
   "id": "e452bc4a516402a3"
  },
  {
   "metadata": {
    "ExecuteTime": {
     "end_time": "2024-06-11T21:42:19.035145Z",
     "start_time": "2024-06-11T21:42:19.020822Z"
    }
   },
   "cell_type": "code",
   "source": "ref_count(id(x))\n",
   "id": "d0eacaa7e4e5d64a",
   "outputs": [
    {
     "data": {
      "text/plain": [
       "1"
      ]
     },
     "execution_count": 14,
     "metadata": {},
     "output_type": "execute_result"
    }
   ],
   "execution_count": 14
  },
  {
   "metadata": {},
   "cell_type": "markdown",
   "source": "As expected, the reference count has now decreased to 1.",
   "id": "a411634de782a53e"
  },
  {
   "metadata": {},
   "cell_type": "markdown",
   "source": "As we keep creating objects in memory, python keeps track of those objects. This is called reference counting.",
   "id": "35fa548f047d972a"
  }
 ],
 "metadata": {
  "kernelspec": {
   "display_name": "Python 3",
   "language": "python",
   "name": "python3"
  },
  "language_info": {
   "codemirror_mode": {
    "name": "ipython",
    "version": 2
   },
   "file_extension": ".py",
   "mimetype": "text/x-python",
   "name": "python",
   "nbconvert_exporter": "python",
   "pygments_lexer": "ipython2",
   "version": "2.7.6"
  }
 },
 "nbformat": 4,
 "nbformat_minor": 5
}
