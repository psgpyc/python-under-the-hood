{
 "cells": [
  {
   "cell_type": "code",
   "id": "initial_id",
   "metadata": {
    "collapsed": true,
    "ExecuteTime": {
     "end_time": "2024-06-11T22:13:01.645766Z",
     "start_time": "2024-06-11T22:13:01.635103Z"
    }
   },
   "source": [
    "import ctypes\n",
    "import gc"
   ],
   "outputs": [],
   "execution_count": 1
  },
  {
   "metadata": {
    "ExecuteTime": {
     "end_time": "2024-06-11T22:13:48.632096Z",
     "start_time": "2024-06-11T22:13:48.613881Z"
    }
   },
   "cell_type": "code",
   "source": [
    "def get_ref_count(address):\n",
    "    return ctypes.c_long.from_address(address).value\n"
   ],
   "id": "f4026a6fa6e9ef60",
   "outputs": [],
   "execution_count": 2
  },
  {
   "metadata": {
    "ExecuteTime": {
     "end_time": "2024-06-11T22:16:31.042697Z",
     "start_time": "2024-06-11T22:16:31.025156Z"
    }
   },
   "cell_type": "code",
   "source": [
    "def check_obj_in_gc(object_id):\n",
    "    for obj in gc.get_objects():\n",
    "        if id(obj) == object_id:\n",
    "            return \"Object exists in Garbage Collector\"\n",
    "    else:\n",
    "        return \"Object does not exist in Garbage Collector\" "
   ],
   "id": "25bb44ca0acce1fc",
   "outputs": [],
   "execution_count": 3
  },
  {
   "metadata": {},
   "cell_type": "code",
   "outputs": [],
   "execution_count": null,
   "source": "",
   "id": "9a3a8c71424a8510"
  }
 ],
 "metadata": {
  "kernelspec": {
   "display_name": "Python 3",
   "language": "python",
   "name": "python3"
  },
  "language_info": {
   "codemirror_mode": {
    "name": "ipython",
    "version": 2
   },
   "file_extension": ".py",
   "mimetype": "text/x-python",
   "name": "python",
   "nbconvert_exporter": "python",
   "pygments_lexer": "ipython2",
   "version": "2.7.6"
  }
 },
 "nbformat": 4,
 "nbformat_minor": 5
}
