{
 "cells": [
  {
   "cell_type": "code",
   "id": "initial_id",
   "metadata": {
    "collapsed": true,
    "ExecuteTime": {
     "end_time": "2024-06-10T11:01:39.723353Z",
     "start_time": "2024-06-10T11:01:39.710258Z"
    }
   },
   "source": [
    "l = [1,2,3,4,5]\n",
    "idx = 0\n",
    "val = 10"
   ],
   "outputs": [],
   "execution_count": 1
  },
  {
   "metadata": {},
   "cell_type": "markdown",
   "source": "A while statement has an else clause just like an if statement",
   "id": "a515baa0e5f25495"
  },
  {
   "metadata": {
    "ExecuteTime": {
     "end_time": "2024-06-10T11:02:23.383226Z",
     "start_time": "2024-06-10T11:02:23.371813Z"
    }
   },
   "cell_type": "code",
   "source": [
    "while idx < len(l):\n",
    "    if l[idx] == val:\n",
    "        break\n",
    "    idx += 1\n",
    "else:\n",
    "    l.append(val)"
   ],
   "id": "3bf1292b77cf3f",
   "outputs": [],
   "execution_count": 2
  },
  {
   "metadata": {},
   "cell_type": "markdown",
   "source": "### try, except and finally\n",
   "id": "514ab9e45d71fcff"
  },
  {
   "metadata": {
    "ExecuteTime": {
     "end_time": "2024-06-10T11:05:35.338775Z",
     "start_time": "2024-06-10T11:05:33.224792Z"
    }
   },
   "cell_type": "code",
   "source": [
    "a = int(input('enter a number'))\n",
    "b = int(input('enter another number'))\n",
    "\n",
    "try:\n",
    "    a/b\n",
    "except ZeroDivisionError:\n",
    "    print('division by zero')\n",
    "finally:\n",
    "    print('this runs no matter what')"
   ],
   "id": "877ea4de8f80cbe7",
   "outputs": [
    {
     "name": "stdout",
     "output_type": "stream",
     "text": [
      "this runs no matter what\n"
     ]
    }
   ],
   "execution_count": 4
  },
  {
   "metadata": {},
   "cell_type": "markdown",
   "source": "",
   "id": "64e08a6792cb8376"
  },
  {
   "metadata": {},
   "cell_type": "code",
   "outputs": [],
   "execution_count": null,
   "source": "",
   "id": "1ddee989e3f5348b"
  },
  {
   "metadata": {},
   "cell_type": "code",
   "outputs": [],
   "execution_count": null,
   "source": "",
   "id": "3acb23620c811cd5"
  }
 ],
 "metadata": {
  "kernelspec": {
   "display_name": "Python 3",
   "language": "python",
   "name": "python3"
  },
  "language_info": {
   "codemirror_mode": {
    "name": "ipython",
    "version": 2
   },
   "file_extension": ".py",
   "mimetype": "text/x-python",
   "name": "python",
   "nbconvert_exporter": "python",
   "pygments_lexer": "ipython2",
   "version": "2.7.6"
  }
 },
 "nbformat": 4,
 "nbformat_minor": 5
}
