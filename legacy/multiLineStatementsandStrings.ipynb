{
 "cells": [
  {
   "metadata": {},
   "cell_type": "markdown",
   "source": "## Implicit grouping of physical new lines into logical new line tokens",
   "id": "fe9c7897c7fc6aef"
  },
  {
   "metadata": {
    "ExecuteTime": {
     "end_time": "2024-06-10T09:26:24.359847Z",
     "start_time": "2024-06-10T09:26:24.345386Z"
    }
   },
   "cell_type": "code",
   "source": "x = [1,2,3,4,5]",
   "id": "fc47e74eb51cf3af",
   "outputs": [],
   "execution_count": 1
  },
  {
   "metadata": {
    "ExecuteTime": {
     "end_time": "2024-06-10T09:27:14.198523Z",
     "start_time": "2024-06-10T09:27:14.193876Z"
    }
   },
   "cell_type": "code",
   "source": [
    "a = [1,2,3,\n",
    "     4,5,6,7]\n",
    "print(a)"
   ],
   "id": "172de138ff3ad84f",
   "outputs": [
    {
     "name": "stdout",
     "output_type": "stream",
     "text": [
      "[1, 2, 3, 4, 5, 6, 7]\n"
     ]
    }
   ],
   "execution_count": 4
  },
  {
   "metadata": {},
   "cell_type": "markdown",
   "source": "As python does an implicit conversion and removes the new line character to create a logical new line token, we can split lists into multiple lines",
   "id": "b22653ccd531be99"
  },
  {
   "metadata": {
    "ExecuteTime": {
     "end_time": "2024-06-10T09:29:52.279787Z",
     "start_time": "2024-06-10T09:29:52.273695Z"
    }
   },
   "cell_type": "code",
   "source": [
    "a_tuple = ( 1,2,3,4 #a tuple written in multiple line\n",
    "          ,5,6, 7 )"
   ],
   "id": "3420df20ed2aa48b",
   "outputs": [],
   "execution_count": 7
  },
  {
   "metadata": {},
   "cell_type": "markdown",
   "source": "Similarly, dictionary can also be written in multiple lines just like lists, sets or tuple.",
   "id": "f2a7da7423d3b060"
  },
  {
   "metadata": {
    "ExecuteTime": {
     "end_time": "2024-06-10T09:30:26.315850Z",
     "start_time": "2024-06-10T09:30:26.311831Z"
    }
   },
   "cell_type": "code",
   "source": [
    "a_dict = {'a':1, \n",
    "          'b':2, \n",
    "          'c':3, \n",
    "          'd':4, \n",
    "          'e':5}"
   ],
   "id": "566030c620ef6afa",
   "outputs": [],
   "execution_count": 8
  },
  {
   "metadata": {},
   "cell_type": "markdown",
   "source": "We can do that same for the python function arguments",
   "id": "e147fb4ba8592e"
  },
  {
   "metadata": {
    "ExecuteTime": {
     "end_time": "2024-06-10T09:32:34.276504Z",
     "start_time": "2024-06-10T09:32:34.267238Z"
    }
   },
   "cell_type": "code",
   "source": [
    "def random_func(a, #fist argument\n",
    "                b, c):\n",
    "    return a+b+c\n",
    "random_func(1,2,3)"
   ],
   "id": "13182333012ac3a2",
   "outputs": [
    {
     "data": {
      "text/plain": [
       "6"
      ]
     },
     "execution_count": 9,
     "metadata": {},
     "output_type": "execute_result"
    }
   ],
   "execution_count": 9
  },
  {
   "metadata": {},
   "cell_type": "markdown",
   "source": "## Explicit grouping\n",
   "id": "7163bf090eb249ac"
  },
  {
   "metadata": {
    "ExecuteTime": {
     "end_time": "2024-06-10T09:33:54.235029Z",
     "start_time": "2024-06-10T09:33:54.231346Z"
    }
   },
   "cell_type": "code",
   "source": [
    "a = 10\n",
    "b = 20\n",
    "c = 30"
   ],
   "id": "f8aa2b979e500970",
   "outputs": [],
   "execution_count": 10
  },
  {
   "metadata": {
    "ExecuteTime": {
     "end_time": "2024-06-10T09:34:20.571221Z",
     "start_time": "2024-06-10T09:34:20.567232Z"
    }
   },
   "cell_type": "code",
   "source": [
    "if a + b + c >= 10:\n",
    "    print('yes')"
   ],
   "id": "12731f616121f9bb",
   "outputs": [
    {
     "name": "stdout",
     "output_type": "stream",
     "text": [
      "yes\n"
     ]
    }
   ],
   "execution_count": 11
  },
  {
   "metadata": {},
   "cell_type": "markdown",
   "source": "We cannot simply break the if statement into multiple physical lines and expect python to implicitly remove the new lines and create a logical new line tokens. Unfortunately, we have to do this ourself.",
   "id": "d6f4722661b9d7f4"
  },
  {
   "metadata": {
    "ExecuteTime": {
     "end_time": "2024-06-10T09:37:25.503777Z",
     "start_time": "2024-06-10T09:37:25.486992Z"
    }
   },
   "cell_type": "code",
   "source": [
    "if a + b + c >= 10 \\\n",
    "and (a + b + c) % 2 == 0:\n",
    "    print('yes')"
   ],
   "id": "eea3d26a55036d21",
   "outputs": [
    {
     "name": "stdout",
     "output_type": "stream",
     "text": [
      "yes\n"
     ]
    }
   ],
   "execution_count": 12
  },
  {
   "metadata": {},
   "cell_type": "markdown",
   "source": "In the above example, I have used a backslash to continue the if statement to new line explicitly telling python to do so",
   "id": "26e005203dd5d98a"
  },
  {
   "metadata": {},
   "cell_type": "markdown",
   "source": "## Multi line string",
   "id": "5baaa25bae444a0d"
  },
  {
   "metadata": {
    "ExecuteTime": {
     "end_time": "2024-06-10T09:42:19.968575Z",
     "start_time": "2024-06-10T09:42:19.964068Z"
    }
   },
   "cell_type": "code",
   "source": [
    "z = '''\n",
    "A multi line strings to demonstrate how it preserves formatting.\n",
    "     A few spaces before and in a new line.            Again, after few spaces\n",
    "     and continued in to a  new line\n",
    "'''"
   ],
   "id": "80a57e6f58420b90",
   "outputs": [],
   "execution_count": 13
  },
  {
   "metadata": {
    "ExecuteTime": {
     "end_time": "2024-06-10T09:42:21.535354Z",
     "start_time": "2024-06-10T09:42:21.526747Z"
    }
   },
   "cell_type": "code",
   "source": "z",
   "id": "e2e8d073253ffbee",
   "outputs": [
    {
     "data": {
      "text/plain": [
       "'\\nA multi line strings to demonstrate how it preserves formatting.\\n     A few spaces before and in a new line.            Again, after few spaces\\n     and continued in to a  new line\\n'"
      ]
     },
     "execution_count": 14,
     "metadata": {},
     "output_type": "execute_result"
    }
   ],
   "execution_count": 14
  },
  {
   "metadata": {
    "ExecuteTime": {
     "end_time": "2024-06-10T09:42:25.536625Z",
     "start_time": "2024-06-10T09:42:25.532319Z"
    }
   },
   "cell_type": "code",
   "source": "print(z)",
   "id": "9c43784caff28470",
   "outputs": [
    {
     "name": "stdout",
     "output_type": "stream",
     "text": [
      "\n",
      "A multi line strings to demonstrate how it preserves formatting.\n",
      "     A few spaces before and in a new line.            Again, after few spaces\n",
      "     and continued in to a  new line\n",
      "\n"
     ]
    }
   ],
   "execution_count": 15
  },
  {
   "metadata": {},
   "cell_type": "code",
   "outputs": [],
   "execution_count": null,
   "source": "",
   "id": "7ce73408a45551f6"
  }
 ],
 "metadata": {
  "kernelspec": {
   "display_name": "Python 3",
   "language": "python",
   "name": "python3"
  },
  "language_info": {
   "codemirror_mode": {
    "name": "ipython",
    "version": 2
   },
   "file_extension": ".py",
   "mimetype": "text/x-python",
   "name": "python",
   "nbconvert_exporter": "python",
   "pygments_lexer": "ipython2",
   "version": "2.7.6"
  }
 },
 "nbformat": 4,
 "nbformat_minor": 5
}
