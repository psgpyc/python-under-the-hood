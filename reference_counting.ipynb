{
 "cells": [
  {
   "cell_type": "code",
   "id": "initial_id",
   "metadata": {
    "collapsed": true,
    "ExecuteTime": {
     "end_time": "2024-09-14T11:23:18.289997Z",
     "start_time": "2024-09-14T11:23:18.285744Z"
    }
   },
   "source": "x = 100",
   "outputs": [],
   "execution_count": 3
  },
  {
   "metadata": {},
   "cell_type": "markdown",
   "source": [
    "Python has created an object of type ```<int>``` at some memory address. The variable ```x``` now references the memory address(is a pointer).\n",
    "\n",
    "Now, Python needs to keep track of how many variables are pointing to these memory addresses.\n",
    "\n",
    "As of the moment, only one variable ```x``` is pointing to the integer object at the memory. \n",
    "\n",
    "Before we move forward, let's first calculate the memory address of the variable."
   ],
   "id": "3c54335eae19fefe"
  },
  {
   "metadata": {
    "ExecuteTime": {
     "end_time": "2024-09-14T11:23:18.659510Z",
     "start_time": "2024-09-14T11:23:18.651283Z"
    }
   },
   "cell_type": "code",
   "source": "hex(id(x))",
   "id": "933aa87a0b798280",
   "outputs": [
    {
     "data": {
      "text/plain": [
       "'0x7ff8f749cf88'"
      ]
     },
     "execution_count": 4,
     "metadata": {},
     "output_type": "execute_result"
    }
   ],
   "execution_count": 4
  },
  {
   "metadata": {},
   "cell_type": "markdown",
   "source": "Python maintains a table where it keeps track of number of references to the particular memory address. In our case, only one variable is pointing to the memory address ```0x7ff8f749cf88```.",
   "id": "8d42d525d32386a5"
  },
  {
   "metadata": {},
   "cell_type": "markdown",
   "source": [
    "| reference    | count  |\n",
    "|--------------|--------|\n",
    "| 0x7ff8f749cf88 | 1     |\n",
    " \n",
    "Now, if another variable references our variable ```x```, what happens? \n",
    "\n",
    "Is object stored in the memory is now copied to a new memory location? Does the new variable now points to this new memory address? "
   ],
   "id": "21d0ba180e1d46ea"
  },
  {
   "metadata": {
    "ExecuteTime": {
     "end_time": "2024-09-14T11:23:19.128890Z",
     "start_time": "2024-09-14T11:23:19.124180Z"
    }
   },
   "cell_type": "code",
   "source": "y = x",
   "id": "f1998fc8d2795254",
   "outputs": [],
   "execution_count": 5
  },
  {
   "metadata": {},
   "cell_type": "markdown",
   "source": [
    "No, as variables are just references to the memory. The reference to the memory address is copied to the new variable ```y``` and the python memory manager, now updates the reference count to the address.\n",
    "\n",
    "| reference    | count |\n",
    "|--------------|-------|\n",
    "| 0x7ff8f749cf88 | 2     |\n",
    "\n",
    "Now, let us look at the code to get the reference count."
   ],
   "id": "fa39c80212b62598"
  },
  {
   "metadata": {
    "ExecuteTime": {
     "end_time": "2024-09-14T11:23:19.463050Z",
     "start_time": "2024-09-14T11:23:19.458891Z"
    }
   },
   "cell_type": "code",
   "source": "import sys",
   "id": "389ecf13f3969b63",
   "outputs": [],
   "execution_count": 6
  },
  {
   "metadata": {
    "ExecuteTime": {
     "end_time": "2024-09-14T11:23:19.624431Z",
     "start_time": "2024-09-14T11:23:19.616694Z"
    }
   },
   "cell_type": "code",
   "source": "sys.getrefcount(y)",
   "id": "4ebc01cb45b8e3eb",
   "outputs": [
    {
     "data": {
      "text/plain": [
       "1000000185"
      ]
     },
     "execution_count": 7,
     "metadata": {},
     "output_type": "execute_result"
    }
   ],
   "execution_count": 7
  },
  {
   "metadata": {
    "ExecuteTime": {
     "end_time": "2024-09-14T11:23:19.804061Z",
     "start_time": "2024-09-14T11:23:19.799832Z"
    }
   },
   "cell_type": "code",
   "source": "import ctypes",
   "id": "8ff6b3e4fc8355ec",
   "outputs": [],
   "execution_count": 8
  },
  {
   "metadata": {
    "ExecuteTime": {
     "end_time": "2024-09-14T11:23:19.894306Z",
     "start_time": "2024-09-14T11:23:19.888062Z"
    }
   },
   "cell_type": "code",
   "source": [
    "def get_refcount(address):\n",
    "    return ctypes.c_long.from_address(address).value"
   ],
   "id": "d08b5f3f6715ecfd",
   "outputs": [],
   "execution_count": 9
  },
  {
   "metadata": {
    "ExecuteTime": {
     "end_time": "2024-09-14T11:23:20.063950Z",
     "start_time": "2024-09-14T11:23:20.056733Z"
    }
   },
   "cell_type": "code",
   "source": "get_refcount(id(x))",
   "id": "2c87a57ea8e9a448",
   "outputs": [
    {
     "data": {
      "text/plain": [
       "1000000184"
      ]
     },
     "execution_count": 10,
     "metadata": {},
     "output_type": "execute_result"
    }
   ],
   "execution_count": 10
  },
  {
   "metadata": {
    "ExecuteTime": {
     "end_time": "2024-09-14T11:23:20.644805Z",
     "start_time": "2024-09-14T11:23:20.638466Z"
    }
   },
   "cell_type": "code",
   "source": "id(x)",
   "id": "d6db462164b67737",
   "outputs": [
    {
     "data": {
      "text/plain": [
       "140707277426568"
      ]
     },
     "execution_count": 11,
     "metadata": {},
     "output_type": "execute_result"
    }
   ],
   "execution_count": 11
  },
  {
   "metadata": {
    "ExecuteTime": {
     "end_time": "2024-09-14T11:23:20.881829Z",
     "start_time": "2024-09-14T11:23:20.873083Z"
    }
   },
   "cell_type": "code",
   "source": "id(y)",
   "id": "d20227215b6775a0",
   "outputs": [
    {
     "data": {
      "text/plain": [
       "140707277426568"
      ]
     },
     "execution_count": 12,
     "metadata": {},
     "output_type": "execute_result"
    }
   ],
   "execution_count": 12
  },
  {
   "metadata": {
    "ExecuteTime": {
     "end_time": "2024-09-14T11:23:21.207563Z",
     "start_time": "2024-09-14T11:23:21.204826Z"
    }
   },
   "cell_type": "code",
   "source": "y = None",
   "id": "ac427b4904caf580",
   "outputs": [],
   "execution_count": 13
  },
  {
   "metadata": {
    "ExecuteTime": {
     "end_time": "2024-09-14T11:23:22.112492Z",
     "start_time": "2024-09-14T11:23:22.107068Z"
    }
   },
   "cell_type": "code",
   "source": "sys.getrefcount(x)",
   "id": "92f02a236604929c",
   "outputs": [
    {
     "data": {
      "text/plain": [
       "1000000184"
      ]
     },
     "execution_count": 14,
     "metadata": {},
     "output_type": "execute_result"
    }
   ],
   "execution_count": 14
  },
  {
   "metadata": {},
   "cell_type": "code",
   "outputs": [],
   "execution_count": null,
   "source": "",
   "id": "e02db67708beae1a"
  }
 ],
 "metadata": {
  "kernelspec": {
   "display_name": "Python 3",
   "language": "python",
   "name": "python3"
  },
  "language_info": {
   "codemirror_mode": {
    "name": "ipython",
    "version": 2
   },
   "file_extension": ".py",
   "mimetype": "text/x-python",
   "name": "python",
   "nbconvert_exporter": "python",
   "pygments_lexer": "ipython2",
   "version": "2.7.6"
  }
 },
 "nbformat": 4,
 "nbformat_minor": 5
}
