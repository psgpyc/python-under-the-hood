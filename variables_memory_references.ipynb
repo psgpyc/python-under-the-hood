{
 "cells": [
  {
   "metadata": {},
   "cell_type": "markdown",
   "source": [
    "## Variables and Memory References\n",
    "\n",
    "Variables in python are always references. They are references to objects in the memory.\n",
    "\n",
    "Consider the below variable with an object of type <int>"
   ],
   "id": "6e3c4e07d4d06d1d"
  },
  {
   "metadata": {
    "ExecuteTime": {
     "end_time": "2024-09-14T10:50:09.449870Z",
     "start_time": "2024-09-14T10:50:09.446655Z"
    }
   },
   "cell_type": "code",
   "source": "x = 12",
   "id": "7f2d05dc66e86c2",
   "outputs": [],
   "execution_count": 1
  },
  {
   "metadata": {},
   "cell_type": "markdown",
   "source": [
    "When the above line was executed, python created the integer 12 in some memory location.\n",
    "\n",
    "Then, the variable ```x``` references the ```<int>``` object stored in that memory location. \n",
    "\n",
    "We can use ```id()``` function to identify the memory location where the object is saved."
   ],
   "id": "3d15869c298848b5"
  },
  {
   "metadata": {
    "ExecuteTime": {
     "end_time": "2024-09-14T10:56:28.953434Z",
     "start_time": "2024-09-14T10:56:28.946932Z"
    }
   },
   "cell_type": "code",
   "source": "print(hex(id(x)))",
   "id": "62f36c52b947cc46",
   "outputs": [
    {
     "name": "stdout",
     "output_type": "stream",
     "text": [
      "0x7ff8f749c488\n"
     ]
    }
   ],
   "execution_count": 4
  },
  {
   "metadata": {},
   "cell_type": "markdown",
   "source": [
    "The memory location at which the ```<int>``` object is stored is given in hex, ```0x7ff8f749c488```.\n",
    "\n",
    "```0x7ff8f749c488``` is where the object is stored and the variable ```x``` is pointing towards the memory location."
   ],
   "id": "12868ea27fd61712"
  },
  {
   "metadata": {},
   "cell_type": "code",
   "outputs": [],
   "execution_count": null,
   "source": "",
   "id": "2850aa0b34c5d365"
  }
 ],
 "metadata": {
  "kernelspec": {
   "display_name": "Python 3",
   "language": "python",
   "name": "python3"
  },
  "language_info": {
   "codemirror_mode": {
    "name": "ipython",
    "version": 2
   },
   "file_extension": ".py",
   "mimetype": "text/x-python",
   "name": "python",
   "nbconvert_exporter": "python",
   "pygments_lexer": "ipython2",
   "version": "2.7.6"
  }
 },
 "nbformat": 4,
 "nbformat_minor": 5
}
